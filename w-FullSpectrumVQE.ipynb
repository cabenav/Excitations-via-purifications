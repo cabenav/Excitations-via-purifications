{
 "cells": [
  {
   "cell_type": "code",
   "execution_count": 3,
   "metadata": {},
   "outputs": [
    {
     "data": {
      "text/html": [
       "<h3>Version Information</h3><table><tr><th>Qiskit Software</th><th>Version</th></tr><tr><td><code>qiskit-terra</code></td><td>0.18.3</td></tr><tr><td><code>qiskit-aer</code></td><td>0.9.1</td></tr><tr><td><code>qiskit-ignis</code></td><td>0.6.0</td></tr><tr><td><code>qiskit-ibmq-provider</code></td><td>0.17.0</td></tr><tr><td><code>qiskit-aqua</code></td><td>0.9.5</td></tr><tr><td><code>qiskit</code></td><td>0.31.0</td></tr><tr><th>System information</th></tr><tr><td>Python</td><td>3.7.6 (default, Jan  8 2020, 19:59:22) \n",
       "[GCC 7.3.0]</td></tr><tr><td>OS</td><td>Linux</td></tr><tr><td>CPUs</td><td>6</td></tr><tr><td>Memory (Gb)</td><td>15.285022735595703</td></tr><tr><td colspan='2'>Wed Nov 23 11:57:56 2022 CET</td></tr></table>"
      ],
      "text/plain": [
       "<IPython.core.display.HTML object>"
      ]
     },
     "metadata": {},
     "output_type": "display_data"
    }
   ],
   "source": [
    "import qiskit.tools.jupyter\n",
    "%qiskit_version_table"
   ]
  },
  {
   "cell_type": "code",
   "execution_count": 4,
   "metadata": {},
   "outputs": [],
   "source": [
    "import numpy as np\n",
    "from numpy import linalg as LA\n",
    "from scipy.linalg import expm, sinm, cosm\n",
    "from numpy import count_nonzero\n",
    "import math, cmath\n",
    "from scipy.optimize import fmin, minimize, rosen, rosen_der\n",
    "from itertools import product, combinations\n",
    "from copy import copy\n",
    "import matplotlib.pyplot as plt\n",
    "from scipy import interpolate\n",
    "from scipy.interpolate import make_lsq_spline, BSpline\n",
    "from scipy.interpolate import make_interp_spline\n",
    "from scipy.interpolate import Rbf, InterpolatedUnivariateSpline\n",
    "from scipy.interpolate import interp1d\n",
    "from scipy.sparse import csr_matrix\n",
    "import numdifftools as nd\n",
    "import scipy.optimize as optimize\n",
    "import pickle\n",
    "\n",
    "import random\n",
    "\n",
    "# sympy \n",
    "from sympy import symbols,Symbol\n",
    "import sympy as sym\n",
    "\n",
    "# Quantum circuit\n",
    "from qiskit import QuantumCircuit\n",
    "\n",
    "# (Trotter) Exp pauli circuit : e^-iH\n",
    "from qiskit.opflow import PauliTrotterEvolution\n",
    "\n",
    "# parameters in q-circuits\n",
    "from qiskit.circuit import ParameterVector\n",
    "\n",
    "# Pauli matrices\n",
    "from qiskit.opflow import I, X, Y, Z\n",
    "\n",
    "# Qinfo package\n",
    "import qiskit.quantum_info as qi"
   ]
  },
  {
   "cell_type": "code",
   "execution_count": 5,
   "metadata": {},
   "outputs": [
    {
     "data": {
      "text/plain": [
       "Matrix([\n",
       "[                cos(x/2), exp(I*z)*sin(x/2)],\n",
       "[-exp(I*(y - z))*sin(x/2), exp(I*y)*cos(x/2)]])"
      ]
     },
     "execution_count": 5,
     "metadata": {},
     "output_type": "execute_result"
    }
   ],
   "source": [
    "\n",
    "x, y ,z,U= symbols('x y z U')\n",
    "theta=Symbol('theta',real=True)\n",
    "phi=Symbol('phi',real=True)\n",
    "lam=Symbol('lambda',real=True)\n",
    "\n",
    "\n",
    "#Unitary transformation of 1 qubit\n",
    "def Unitary(x,y,z):\n",
    "    return np.matrix([[np.cos(x/2), np.exp(z*1j)*np.sin(x/2)], [-np.exp((y-z)*1j)*np.sin(x/2), np.exp(y*1j)*np.cos(x/2)]])\n",
    "\n",
    "# Unitary transformation of 1 qubit\n",
    "sym.Matrix([[sym.cos(x/2),sym.exp(z*sym.I)*sym.sin(x/2)],[-1*sym.exp((y-z)*sym.I)*sym.sin(x/2),sym.exp(y*sym.I)*sym.cos(x/2)]])\n"
   ]
  },
  {
   "cell_type": "markdown",
   "metadata": {},
   "source": [
    "Qiskit one qubit gerneral rotation:"
   ]
  },
  {
   "cell_type": "markdown",
   "metadata": {},
   "source": [
    "$U(\\theta, \\phi, \\lambda) = \\begin{pmatrix} \\cos \\left(\\frac{\\theta}{2}\\right)  & -e^{i\\lambda} \\sin(\n",
    "\\frac{\\theta}{2})\\\\ e^{i\\phi} \\sin(\\frac{\\theta}{2}) & e^{i(\\lambda+\\phi)}\\cos(\\frac{\\theta}{2})  \\end{pmatrix} $"
   ]
  },
  {
   "cell_type": "markdown",
   "metadata": {},
   "source": [
    "$\\theta= -x, \\lambda= z, \\phi= y-z  $"
   ]
  },
  {
   "cell_type": "code",
   "execution_count": 6,
   "metadata": {},
   "outputs": [],
   "source": [
    "def QUnitary(x,y,z):\n",
    "    circ=QuantumCircuit(1)\n",
    "    circ.u(-1*x,y-z,z,0)\n",
    "    \n",
    "    # return quantum circuit and matrix form\n",
    "    return circ , qi.Operator(circ)"
   ]
  },
  {
   "cell_type": "markdown",
   "metadata": {},
   "source": [
    "##### Testing"
   ]
  },
  {
   "cell_type": "code",
   "execution_count": 5,
   "metadata": {},
   "outputs": [],
   "source": [
    "(in1,in2,in3)=(random.random(),random.random(),random.random())"
   ]
  },
  {
   "cell_type": "code",
   "execution_count": 6,
   "metadata": {},
   "outputs": [
    {
     "data": {
      "text/plain": [
       "array([[ True,  True],\n",
       "       [ True,  True]])"
      ]
     },
     "execution_count": 6,
     "metadata": {},
     "output_type": "execute_result"
    }
   ],
   "source": [
    "np.array(Unitary(in1,in2,in3)).round(8)==np.array(QUnitary(in1,in2,in3)[1]).round(8)"
   ]
  },
  {
   "cell_type": "markdown",
   "metadata": {},
   "source": [
    "$H = \\begin{pmatrix} a_1+a_2   & a_3+ i a_4\\\\ a_3-ia_4 & a_1-a_2  \\end{pmatrix} $ =  $a_1 \\times I + a_2 \\times Z +a_3 \\times X -a_4 \\times Y$"
   ]
  },
  {
   "cell_type": "code",
   "execution_count": 7,
   "metadata": {},
   "outputs": [],
   "source": [
    "#General Hamiltonian of 1 qubit\n",
    "def Hamiltonian(a1,a2,a3,a4):\n",
    "    return np.matrix([[a1+a2,a3+a4*1j], [a3-a4*1j, a1-a2]])\n",
    "\n",
    "# Create general Hamiltonian H=a1*I+a2*Z+a3*X-a4*Y for all a_i belongs real, where I, X, Y, Z are Pauli matrices \n",
    "def QHamiltonian(a1,a2,a3,a4):\n",
    "    return a1*I+a2*Z+a3*X-a4*Y \n",
    "\n",
    "\n",
    "# comment: change to a1*I+a2*X+a3*Y+a4*Z (?)"
   ]
  },
  {
   "cell_type": "markdown",
   "metadata": {},
   "source": [
    "$(Q)H_{Free}=H_1 \\otimes I + I \\otimes H_2$"
   ]
  },
  {
   "cell_type": "code",
   "execution_count": 11,
   "metadata": {},
   "outputs": [],
   "source": [
    "# Create general free Hamiltonian of 2 qubits = H \\otimes 1 + 1 \\otimes H \n",
    "\n",
    "#General free Hamiltonian of 2 qubits = H \\otimes 1 + 1 \\otimes H \n",
    "def Free(a1,a2,a3,a4,b1,b2,b3,b4):\n",
    "    return np.kron(Hamiltonian(a1,a2,a3,a4),np.identity(2)) +  np.kron(np.identity(2),Hamiltonian(b1,b2,b3,b4))\n",
    "\n",
    "# Tensor products are denoted with a caret : X^Y = X \\otimes Y\n",
    "def QFree(a1,a2,a3,a4,b1,b2,b3,b4):\n",
    "    h1=QHamiltonian(a1,a2,a3,a4)\n",
    "    h2=QHamiltonian(b1,b2,b3,b4)\n",
    "    return (h1^I) + (I^ h2)"
   ]
  },
  {
   "cell_type": "markdown",
   "metadata": {},
   "source": [
    "$H_{2Q}=\\sum_{ij} g_{ij} P_i\\otimes P_j$"
   ]
  },
  {
   "cell_type": "code",
   "execution_count": 8,
   "metadata": {},
   "outputs": [],
   "source": [
    "#General interacting Hamiltonian of 2 qubits = \\sum_ij g_ij Pauli_i\\otimes Pauli_j\n",
    "\n",
    "# for testing case define as global variable\n",
    "Random= np.random.random((3, 3))*0.2  #g_ij\n",
    "\n",
    "def Interacting():\n",
    "    #Pauli matrices\n",
    "    s1 = np.matrix([[0,1],[1,0]]) \n",
    "    s2 = np.matrix([[0,-1j],[1j,0]])\n",
    "    s3 = np.matrix([[1,0],[0,-1]])\n",
    "    Pauli= [s1,s2,s3]\n",
    "    #Random= np.random.random((3, 3))*0.2  #g_ij\n",
    "    A = np.asmatrix(np.zeros([4,4]))\n",
    "    for i in range (3):\n",
    "        for j in range(3):\n",
    "             A = A + Random[i,j]*np.kron(Pauli[i],Pauli[j])\n",
    "    return A\n",
    "\n",
    "def QInteracting():\n",
    "    #Random= np.random.random((3, 3))*0.2  #g_ij\n",
    "    # initialize as 0*I^I (2-qubits) \n",
    "    A=0*I^I\n",
    "    Pauli=[X,Y,Z]\n",
    "    for i in range(3):\n",
    "        for j in range(3):\n",
    "            A+=Random[i,j]*(Pauli[i]^Pauli[j])\n",
    "    return A"
   ]
  },
  {
   "cell_type": "markdown",
   "metadata": {},
   "source": [
    "$e^{\\sum_i c_i P_i \\otimes P_i}$"
   ]
  },
  {
   "cell_type": "code",
   "execution_count": 9,
   "metadata": {},
   "outputs": [],
   "source": [
    "#Exponential unitary = Exp[\\sum_i c_i Pauli_i\\otimes Pauli_i]\n",
    "def Aux(c0,c1,c2):\n",
    "    s1 = np.matrix([[0,1],[1,0]])\n",
    "    s2 = np.matrix([[0,-1j],[1j,0]])\n",
    "    s3 = np.matrix([[1,0],[0,-1]])\n",
    "    Pauli= [s1,s2,s3]\n",
    "    Matr = c0*np.kron(Pauli[0],Pauli[0]) + c1*np.kron(Pauli[1],Pauli[1]) + c2*np.kron(Pauli[2],Pauli[2]) \n",
    "    return np.asmatrix(expm(-1j*Matr))\n",
    "\n",
    "def QAux(c0,c1,c2):\n",
    "    Pauli=[X,Y,Z]\n",
    "    Matr = (c0*(Pauli[0]^Pauli[0])+c1*(Pauli[1]^Pauli[1])+c2*(Pauli[2]^Pauli[2]))\n",
    "    return Matr.exp_i()"
   ]
  },
  {
   "cell_type": "code",
   "execution_count": 12,
   "metadata": {},
   "outputs": [
    {
     "name": "stdout",
     "output_type": "stream",
     "text": [
      "Exact energies:  [12.73451153 -6.58972654  0.7157519   5.13946311]\n",
      "(Q)Exact energies:  [12.73451153 -6.58972654  0.7157519   5.13946311]\n"
     ]
    }
   ],
   "source": [
    "#HAMILTONIAN (PARAMETERS AND CALCULATION)\n",
    "p1 = 1\n",
    "p2 = 2\n",
    "p3 = 1\n",
    "p4 = 3\n",
    "q1 = 2\n",
    "q2 = 1\n",
    "q3 = 3\n",
    "q4 = 5\n",
    "\n",
    "Full = Free(p1,p2,p3,p4,q1,q2,q3,q4) + Interacting() #This computes the Hamiltonian\n",
    "w, v = LA.eig(Full)\n",
    "\n",
    "QFull = QFree(p1,p2,p3,p4,q1,q2,q3,q4) + QInteracting() #This computes the (Q)Hamiltonian\n",
    "qw, qv = LA.eig(QFull.to_matrix())\n",
    "print(\"Exact energies: \", w.real) #Eigenvalues\n",
    "print(\"(Q)Exact energies: \", qw.real) #Eigenvalues\n",
    "#print(\"Exact states: \", v.real) #Eigenvectors"
   ]
  },
  {
   "cell_type": "code",
   "execution_count": 13,
   "metadata": {},
   "outputs": [],
   "source": [
    "#Full Unitary of 2 qubits = U_1 \\otimes U_2 Exp[\\sum_i c_i Pauli_i\\otimes Pauli_i] U_3 \\otimes U_4\n",
    "def FullUnitary(x0, y0, z0, x1, y1, z1, x2, y2, z2, x3, y3,z3,c0,c1,c2):\n",
    "    Auxhere = np.matmul(np.kron(Unitary(x0,y0,z0),Unitary(x1,y1,z1)),Aux(c0,c1,c2))\n",
    "    return np.matmul(Auxhere,np.kron(Unitary(x2,y2,z2),Unitary(x3,y3,z3)))\n"
   ]
  },
  {
   "cell_type": "code",
   "execution_count": 14,
   "metadata": {},
   "outputs": [],
   "source": [
    "def QFullUnitary(x0, y0, z0, x1, y1, z1, x2, y2, z2, x3, y3,z3,c0,c1,c2):\n",
    "    # 2-qubits quantum circuit\n",
    "    fullU_circ=QuantumCircuit(2)\n",
    "    \n",
    "    # quantum circuit for np.kron(Unitary(x0,y0,z0),Unitary(x1,y1,z1)) \n",
    "    # general unitary rotation on qubit '0' and general unitary rotation on qubit '1'  \n",
    "    #### *****qiskit ordering***** \n",
    "    fullU_circ=fullU_circ.compose(QUnitary(x2,y2,z2)[0],[1])                                                                     \n",
    "    fullU_circ=fullU_circ.compose(QUnitary(x3,y3,z3)[0],[0]) \n",
    "    \n",
    "    # quantum circuit for exponential unitary = Exp[\\sum_i c_i Pauli_i\\otimes Pauli_i] \n",
    "    aux_circ=PauliTrotterEvolution(trotter_mode='trotter',reps=1).convert(QAux(c0,c1,c2)).to_circuit()\n",
    "    fullU_circ=fullU_circ.compose(aux_circ)\n",
    "                                                                          \n",
    "    # quantum circuit for np.kron(Unitary(x2,y2,z2),Unitary(x3,y3,z3)) \n",
    "    # general unitary rotation on qubit 0, general unitary rotation on qubit 1                                     \n",
    "    fullU_circ=fullU_circ.compose(QUnitary(x0,y0,z0)[0],[1])\n",
    "    fullU_circ=fullU_circ.compose(QUnitary(x1,y1,z1)[0],[0])                                                                                 \n",
    "    return fullU_circ"
   ]
  },
  {
   "cell_type": "markdown",
   "metadata": {},
   "source": [
    "###### FullUnitary, QFullUnitary Testing"
   ]
  },
  {
   "cell_type": "code",
   "execution_count": 15,
   "metadata": {},
   "outputs": [],
   "source": [
    "qin_test=tuple([random.random() for i in range(15)])\n",
    "(in1,in2,in3,in4,in5,in6,in7,in8,in9,in10,in11,in12,in13,in14,in15)=qin_test"
   ]
  },
  {
   "cell_type": "code",
   "execution_count": 16,
   "metadata": {},
   "outputs": [],
   "source": [
    "cf=FullUnitary(in1,in2,in3,in4,in5,in6,in7,in8,in9,in10,in11,in12,in13,in14,in15)"
   ]
  },
  {
   "cell_type": "code",
   "execution_count": 17,
   "metadata": {},
   "outputs": [],
   "source": [
    "qf=qi.Operator(QFullUnitary(in1,in2,in3,in4,in5,in6,in7,in8,in9,in10,in11,in12,in13,in14,in15))"
   ]
  },
  {
   "cell_type": "code",
   "execution_count": 18,
   "metadata": {},
   "outputs": [
    {
     "data": {
      "text/plain": [
       "array([[ True,  True,  True,  True],\n",
       "       [ True,  True,  True,  True],\n",
       "       [ True,  True,  True,  True],\n",
       "       [ True,  True,  True,  True]])"
      ]
     },
     "execution_count": 18,
     "metadata": {},
     "output_type": "execute_result"
    }
   ],
   "source": [
    "np.array(cf).round(8)==np.array(qf).round(8)"
   ]
  },
  {
   "cell_type": "markdown",
   "metadata": {},
   "source": [
    "#### Cost function"
   ]
  },
  {
   "cell_type": "code",
   "execution_count": 19,
   "metadata": {},
   "outputs": [],
   "source": [
    "#Cost function of w-fields:\n",
    "def cost(vec,FullH,w1,w2):\n",
    "    v1 = np.matrix([1,0,0,0])\n",
    "    v2 = np.matrix([0,1,0,0])\n",
    "    v3 = np.matrix([0,0,1,0])\n",
    "    v4 = np.matrix([0,0,0,1])\n",
    "    Uni = FullUnitary(vec[0],vec[1],vec[2],vec[3],vec[4],vec[5],vec[6],vec[7],vec[8],vec[9], vec[10],vec[11],vec[12],vec[13],vec[14])\n",
    "    cost1 = v1.dot(np.matmul(np.matmul(Uni.H,FullH),Uni)).dot(np.transpose(v1))\n",
    "    cost2 = v2.dot(np.matmul(np.matmul(Uni.H,FullH),Uni)).dot(np.transpose(v2))\n",
    "    cost3 = v3.dot(np.matmul(np.matmul(Uni.H,FullH),Uni)).dot(np.transpose(v3))\n",
    "    cost4 = v4.dot(np.matmul(np.matmul(Uni.H,FullH),Uni)).dot(np.transpose(v4))\n",
    "    LL = w1*w2*cost1+w1*(1-w2)*cost2+(1-w1)*w2*cost3+(1-w1)*(1-w2)*cost4\n",
    "    return LL\n",
    "\n",
    "def cost1(vec,FullH,w1,w2):\n",
    "    v1 = np.matrix([1,0,0,0])\n",
    "    v2 = np.matrix([0,1,0,0])\n",
    "    v3 = np.matrix([0,0,1,0])\n",
    "    v4 = np.matrix([0,0,0,1])\n",
    "    Uni = FullUnitary(vec[0],vec[1],vec[2],vec[3],vec[4],vec[5],vec[6],vec[7],vec[8],vec[9], vec[10],vec[11],vec[12],vec[13],vec[14])\n",
    "    cost1 = v1.dot(np.matmul(np.matmul(Uni.H,FullH),Uni)).dot(np.transpose(v1))\n",
    "    return cost1"
   ]
  },
  {
   "cell_type": "code",
   "execution_count": 20,
   "metadata": {},
   "outputs": [],
   "source": [
    "def Qcost(vec,FullH,w1,w2):\n",
    "    # Define state from label (in computational basis)\n",
    "    qv1=qi.Statevector.from_label('00')\n",
    "    qv2=qi.Statevector.from_label('01')\n",
    "    qv3=qi.Statevector.from_label('10')\n",
    "    qv4=qi.Statevector.from_label('11')\n",
    "    QUni = QFullUnitary(vec[0],vec[1],vec[2],vec[3],vec[4],vec[5],vec[6],vec[7],vec[8],vec[9], vec[10],vec[11],vec[12],vec[13],vec[14])\n",
    "    \n",
    "    # state after Unitary evolution:\n",
    "    QUqv1=qv1.evolve(QUni)\n",
    "    QUqv2=qv2.evolve(QUni)\n",
    "    QUqv3=qv3.evolve(QUni)\n",
    "    QUqv4=qv4.evolve(QUni)\n",
    "    # expectation_value of given Hamiltonin:\n",
    "    qcost1=QUqv1.expectation_value(FullH)\n",
    "    qcost2=QUqv2.expectation_value(FullH)\n",
    "    qcost3=QUqv3.expectation_value(FullH)\n",
    "    qcost4=QUqv4.expectation_value(FullH)\n",
    "    LL = w1*w2*qcost1+w1*(1-w2)*qcost2+(1-w1)*w2*qcost3+(1-w1)*(1-w2)*qcost4\n",
    "    return LL\n",
    "\n",
    "def Qcost1(vec,FullH,w1,w2):\n",
    "    qv1=qi.Statevector.from_label('00')\n",
    "    QUni = QFullUnitary(vec[0],vec[1],vec[2],vec[3],vec[4],vec[5],vec[6],vec[7],vec[8],vec[9], vec[10],vec[11],vec[12],vec[13],vec[14])\n",
    "    qcost1 = qv1.evolve(QUni).expectation_value(FullH)\n",
    "    return qcost1\n"
   ]
  },
  {
   "cell_type": "markdown",
   "metadata": {},
   "source": [
    "##### Cost QCost Testing"
   ]
  },
  {
   "cell_type": "code",
   "execution_count": 21,
   "metadata": {
    "scrolled": true
   },
   "outputs": [
    {
     "name": "stdout",
     "output_type": "stream",
     "text": [
      "4.859960934150066\n",
      "4.8599609341500605\n",
      "Difference:  5.329070518200751e-15\n"
     ]
    }
   ],
   "source": [
    "# Classical\n",
    "print(cost(qin_test,Full,0.7,0.9)[0,0].real)\n",
    "\n",
    "# Quantum Circuit\n",
    "print(Qcost(qin_test,QFull,0.7,0.9).real)\n",
    "print(\"Difference: \", cost(qin_test,Full,0.7,0.9)[0,0].real-Qcost(qin_test,QFull,0.7,0.9).real)"
   ]
  },
  {
   "cell_type": "markdown",
   "metadata": {},
   "source": [
    "###### Cost1, QCost1 Testing"
   ]
  },
  {
   "cell_type": "code",
   "execution_count": 22,
   "metadata": {},
   "outputs": [
    {
     "name": "stdout",
     "output_type": "stream",
     "text": [
      "6.774006972000681\n",
      "6.774006972000673\n",
      "Difference:  7.993605777301127e-15\n"
     ]
    }
   ],
   "source": [
    "print(cost1(qin_test,Full,0.7,0.9)[0,0].real)\n",
    "# Quantum Circuit\n",
    "print(Qcost1(qin_test,QFull,0.7,0.9).real)\n",
    "print(\"Difference: \", cost1(qin_test,Full,0.7,0.9)[0,0].real-Qcost1(qin_test,QFull,0.7,0.9).real)"
   ]
  },
  {
   "cell_type": "markdown",
   "metadata": {},
   "source": [
    "### Energies"
   ]
  },
  {
   "cell_type": "code",
   "execution_count": 23,
   "metadata": {},
   "outputs": [],
   "source": [
    "#Calculations of the Energies with a given set of parameters\n",
    "def energies(vec,FullH):\n",
    "    v1 = np.matrix([1,0,0,0])\n",
    "    v2 = np.matrix([0,1,0,0])\n",
    "    v3 = np.matrix([0,0,1,0])\n",
    "    v4 = np.matrix([0,0,0,1])\n",
    "    Uni = FullUnitary(vec[0],vec[1],vec[2],vec[3],vec[4],vec[5],vec[6],vec[7],vec[8],vec[9], vec[10],vec[11],vec[12],vec[13],vec[14])\n",
    "    cost1 = v1.dot(np.matmul(np.matmul(Uni.H,FullH),Uni)).dot(np.transpose(v1))\n",
    "    cost2 = v2.dot(np.matmul(np.matmul(Uni.H,FullH),Uni)).dot(np.transpose(v2))\n",
    "    cost3 = v3.dot(np.matmul(np.matmul(Uni.H,FullH),Uni)).dot(np.transpose(v3))\n",
    "    cost4 = v4.dot(np.matmul(np.matmul(Uni.H,FullH),Uni)).dot(np.transpose(v4))\n",
    "    E1n = np.asarray(cost1)[0][0].real\n",
    "    E2n = np.asarray(cost2)[0][0].real\n",
    "    E3n = np.asarray(cost3)[0][0].real\n",
    "    E4n = np.asarray(cost4)[0][0].real\n",
    "    return [E1n,E2n,E3n,E4n]"
   ]
  },
  {
   "cell_type": "code",
   "execution_count": 24,
   "metadata": {},
   "outputs": [],
   "source": [
    "def Qenergies(vec,FullH):\n",
    "    qv1=qi.Statevector.from_label('00')\n",
    "    qv2=qi.Statevector.from_label('01')\n",
    "    qv3=qi.Statevector.from_label('10')\n",
    "    qv4=qi.Statevector.from_label('11')\n",
    "    QUni = QFullUnitary(vec[0],vec[1],vec[2],vec[3],vec[4],vec[5],vec[6],vec[7],vec[8],vec[9], vec[10],vec[11],vec[12],vec[13],vec[14])\n",
    "    # state after Unitary evolution:\n",
    "    QUqv1=qv1.evolve(QUni)\n",
    "    QUqv2=qv2.evolve(QUni)\n",
    "    QUqv3=qv3.evolve(QUni)\n",
    "    QUqv4=qv4.evolve(QUni)\n",
    "    # expectation_value of given Hamiltonin:\n",
    "    qcost1=QUqv1.expectation_value(FullH).real\n",
    "    qcost2=QUqv2.expectation_value(FullH).real\n",
    "    qcost3=QUqv3.expectation_value(FullH).real\n",
    "    qcost4=QUqv4.expectation_value(FullH).real\n",
    "    return [qcost1,qcost2,qcost3,qcost4]"
   ]
  },
  {
   "cell_type": "markdown",
   "metadata": {},
   "source": [
    "##### Testing"
   ]
  },
  {
   "cell_type": "code",
   "execution_count": 25,
   "metadata": {},
   "outputs": [
    {
     "name": "stdout",
     "output_type": "stream",
     "text": [
      "[6.774006972000681, 1.799099344590923, 1.5149699048584175, 1.9119237785499825]\n",
      "[6.774006972000673, 1.7990993445909202, 1.5149699048584149, 1.9119237785499819]\n",
      "Difference: \n",
      " [7.99360578e-15 2.66453526e-15 2.66453526e-15 6.66133815e-16]\n"
     ]
    }
   ],
   "source": [
    "print(energies(qin_test,Full))\n",
    "print(Qenergies(qin_test,QFull))\n",
    "d=np.array(energies(qin_test,Full))-np.array(Qenergies(qin_test,QFull))\n",
    "print(\"Difference: \"+'\\n',d)"
   ]
  },
  {
   "cell_type": "markdown",
   "metadata": {},
   "source": [
    "(TO DO)"
   ]
  },
  {
   "cell_type": "code",
   "execution_count": 25,
   "metadata": {},
   "outputs": [],
   "source": [
    "class functioncost():\n",
    "    \n",
    "    def __init__(self, Hamilt,w1,w2):\n",
    "        self.Hamilt = Hamilt\n",
    "        self.w1 = w1\n",
    "        self.w2 = w2\n",
    "    def evalua(self,seed):\n",
    "        return cost(seed,self.Hamilt,self.w1,self.w2).real\n",
    "\n",
    "class functioncost1():\n",
    "    def __init__(self, Hamilt,w1,w2):\n",
    "        self.Hamilt = Hamilt\n",
    "        self.w1 = w1\n",
    "        self.w2 = w2\n",
    "    def evalua(self,seed):\n",
    "        return cost1(seed,self.Hamilt,self.w1,self.w2).real    "
   ]
  }
 ],
 "metadata": {
  "kernelspec": {
   "display_name": "Python 3",
   "language": "python",
   "name": "python3"
  },
  "language_info": {
   "codemirror_mode": {
    "name": "ipython",
    "version": 3
   },
   "file_extension": ".py",
   "mimetype": "text/x-python",
   "name": "python",
   "nbconvert_exporter": "python",
   "pygments_lexer": "ipython3",
   "version": "3.7.6"
  }
 },
 "nbformat": 4,
 "nbformat_minor": 5
}
